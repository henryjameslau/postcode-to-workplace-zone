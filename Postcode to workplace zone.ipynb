{
 "cells": [
  {
   "cell_type": "code",
   "execution_count": 1,
   "metadata": {},
   "outputs": [],
   "source": [
    "import geopandas as gpd\n",
    "import pandas as pd\n",
    "import fiona\n",
    "import multiprocess as mp\n",
    "import tqdm\n",
    "import shapely\n",
    "shapely.speedups.enable()"
   ]
  },
  {
   "cell_type": "code",
   "execution_count": 2,
   "metadata": {},
   "outputs": [],
   "source": [
    "# read joined up workplace zone\n",
    "wkz=gpd.read_file('workplacezoneUK.geojson')"
   ]
  },
  {
   "cell_type": "code",
   "execution_count": 29,
   "metadata": {},
   "outputs": [],
   "source": [
    "# load up EW workplace zone, drop and rename columns, change CRS\n",
    "wkzEW = gpd.read_file('/Users/Lauh/Documents/GitHub/postcode-to-workplace-zone/Workplace_Zones_(December_2011)_Boundaries_EW.geojson')\n",
    "wkzEW=wkzEW.drop(columns=['objectid','lad11nm','lad11nmw','st_areashape','st_lengthshape'])\n",
    "wkzEW.rename(columns={'wz11cd':'WZCD','lad11cd':'LADCD'},inplace=True)\n",
    "wkzEW=wkzEW.to_crs('WGS84')\n",
    "\n",
    "# load up SC workplace zone and change CRS\n",
    "wkzSC=gpd.read_file('/Users/Lauh/Documents/GitHub/postcode-to-workplace-zone/WorkplaceZones2011Scotland/WorkplaceZones2011Scotland.shp')\n",
    "wkzSC=wkzSC.to_crs('WGS84')\n",
    "\n",
    "# load up NI workplace zone and change CRS\n",
    "wkzNI=gpd.read_file('zip://WZ2011_NI_ESRI_0.zip')\n",
    "wkzNI.rename(columns={'CD':'WZCD'},inplace=True)\n",
    "wkzNI=wkzNI.to_crs('WGS84')\n",
    "\n",
    "# try and join them all together, save as big ass file\n",
    "wkz=gpd.GeoDataFrame(pd.concat([wkzEW,wkzNI,wkzSC]))\n",
    "# wkz.to_file(\"workplacezoneUK.geojson\", driver='GeoJSON')"
   ]
  },
  {
   "cell_type": "code",
   "execution_count": 56,
   "metadata": {},
   "outputs": [],
   "source": [
    "# read in classifications and join info onto geojson\n",
    "wkzclassification=pd.read_csv('classifications.csv')"
   ]
  },
  {
   "cell_type": "code",
   "execution_count": 41,
   "metadata": {},
   "outputs": [
    {
     "name": "stderr",
     "output_type": "stream",
     "text": [
      "/usr/local/lib/python3.9/site-packages/IPython/core/interactiveshell.py:3146: DtypeWarning: Columns (18,31,40,45) have mixed types.Specify dtype option on import or set low_memory=False.\n",
      "  has_raised = await self.run_ast_nodes(code_ast.body, cell_name,\n"
     ]
    }
   ],
   "source": [
    "# read in postcodes, make it geodataframe, then set the CRS\n",
    "pc = pd.read_csv('/Users/Lauh/Documents/GitHub/postcode-to-workplace-zone/ONSPD_AUG_2021_UK.csv')\n",
    "pc = gpd.GeoDataFrame(pc,geometry=gpd.points_from_xy(pc['long'],pc['lat']))\n",
    "pc = pc.set_crs('WGS84')"
   ]
  },
  {
   "cell_type": "code",
   "execution_count": 45,
   "metadata": {},
   "outputs": [],
   "source": [
    "# sjoin postcodes and workplace zone\n",
    "pcwkz=gpd.sjoin(pc, wkz,op='within')"
   ]
  },
  {
   "cell_type": "code",
   "execution_count": 58,
   "metadata": {},
   "outputs": [],
   "source": [
    "# left merge the workplace zone classification\n",
    "pcwkzclass=pcwkz.merge(wkzclassification,how='left',left_on='WZCD',right_on='Workplace Zone Code')"
   ]
  },
  {
   "cell_type": "code",
   "execution_count": 62,
   "metadata": {},
   "outputs": [
    {
     "data": {
      "text/plain": [
       "Index(['pcd', 'pcd2', 'pcds', 'dointr', 'doterm', 'oscty', 'ced', 'oslaua',\n",
       "       'osward', 'parish', 'usertype', 'oseast1m', 'osnrth1m', 'osgrdind',\n",
       "       'oshlthau', 'nhser', 'ctry', 'rgn', 'streg', 'pcon', 'eer', 'teclec',\n",
       "       'ttwa', 'pct', 'itl', 'statsward', 'oa01', 'casward', 'park', 'lsoa01',\n",
       "       'msoa01', 'ur01ind', 'oac01', 'oa11', 'lsoa11', 'msoa11', 'wz11', 'ccg',\n",
       "       'bua11', 'buasd11', 'ru11ind', 'oac11', 'lat', 'long', 'lep1', 'lep2',\n",
       "       'pfa', 'imd', 'calncv', 'stp', 'geometry', 'index_right', 'WZCD',\n",
       "       'LADCD', 'Workplace Zone Code', 'Supergroup Code', 'Supergroup Name',\n",
       "       'Group Code', 'Group Name'],\n",
       "      dtype='object')"
      ]
     },
     "execution_count": 62,
     "metadata": {},
     "output_type": "execute_result"
    }
   ],
   "source": [
    "pcwkzclass.columns"
   ]
  },
  {
   "cell_type": "code",
   "execution_count": 68,
   "metadata": {},
   "outputs": [],
   "source": [
    "pcclean=pcwkzclass.drop(columns=['dointr', 'doterm', 'oscty', 'ced', 'oslaua',\n",
    "       'osward', 'parish', 'usertype', 'oseast1m', 'osnrth1m', 'osgrdind',\n",
    "       'oshlthau', 'nhser', 'ctry', 'rgn', 'streg', 'pcon', 'eer', 'teclec',\n",
    "       'ttwa', 'pct', 'itl', 'statsward', 'oa01', 'casward', 'park', 'lsoa01',\n",
    "       'msoa01', 'ur01ind', 'oac01', 'oa11', 'lsoa11', 'msoa11', 'wz11', 'ccg',\n",
    "       'bua11', 'buasd11', 'ru11ind', 'oac11', 'lat', 'long', 'lep1', 'lep2',\n",
    "       'pfa', 'imd', 'calncv', 'stp', 'geometry', 'index_right','LADCD','WZCD'])"
   ]
  },
  {
   "cell_type": "code",
   "execution_count": 72,
   "metadata": {},
   "outputs": [],
   "source": [
    "pcclean = pd.DataFrame(pcclean)\n",
    "pcclean.to_csv('postcode-workplacezone-lookup.csv',index=False)"
   ]
  },
  {
   "cell_type": "code",
   "execution_count": null,
   "metadata": {},
   "outputs": [],
   "source": []
  }
 ],
 "metadata": {
  "kernelspec": {
   "display_name": "Python 3",
   "language": "python",
   "name": "python3"
  },
  "language_info": {
   "codemirror_mode": {
    "name": "ipython",
    "version": 3
   },
   "file_extension": ".py",
   "mimetype": "text/x-python",
   "name": "python",
   "nbconvert_exporter": "python",
   "pygments_lexer": "ipython3",
   "version": "3.9.5"
  }
 },
 "nbformat": 4,
 "nbformat_minor": 4
}
